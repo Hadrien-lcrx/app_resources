{
 "cells": [
  {
   "cell_type": "markdown",
   "id": "28678bcd-5599-4a3c-9f85-a565ae35cb3c",
   "metadata": {},
   "source": [
    "# Dashboarding"
   ]
  },
  {
   "cell_type": "markdown",
   "id": "74e807b6-d8ee-4e3d-98fc-deae095bb563",
   "metadata": {},
   "source": [
    "## Set up\n",
    "### Set up environment"
   ]
  },
  {
   "cell_type": "code",
   "execution_count": 1,
   "id": "03e0d910-5ac1-4aad-bf61-abedfd9dea53",
   "metadata": {},
   "outputs": [],
   "source": [
    "# Imports\n",
    "import json\n",
    "import os\n",
    "import logging\n",
    "import pandas as pd\n",
    "import plotly.express as px\n",
    "import plotly.graph_objects as go\n",
    "import pycountry\n",
    "\n",
    "from dash import Dash, html, Input, Output, dash_table\n",
    "from jupyter_dash import JupyterDash\n",
    "from pandas.api.types import is_string_dtype\n",
    "\n",
    "#JupyterDash.infer_jupyter_proxy_config()"
   ]
  },
  {
   "cell_type": "markdown",
   "id": "e454dc49-df29-4968-97aa-33f6a986a57a",
   "metadata": {},
   "source": [
    "### Load data and helpers"
   ]
  },
  {
   "cell_type": "code",
   "execution_count": 2,
   "id": "1040eb12-6ce6-477c-90e5-f025fa0858bf",
   "metadata": {},
   "outputs": [],
   "source": [
    "# Helpers\n",
    "df = pd.read_csv(\"../data/aggregated/aggregated_exports/exports_cobalt.csv\")\n",
    "\n",
    "countries = {}\n",
    "for country in pycountry.countries:\n",
    "    countries[country.name] = country.alpha_3\n",
    "\n",
    "unabbreviated_countries = [country.strip() for country in df.Country.unique() if country not in countries.keys()]"
   ]
  },
  {
   "cell_type": "markdown",
   "id": "843dc664-a61e-42bc-91e8-d93c954f19f3",
   "metadata": {},
   "source": [
    "### Preprocessing"
   ]
  },
  {
   "cell_type": "code",
   "execution_count": 4,
   "id": "4176b5ba-a2bc-4921-bdd4-968b04681e46",
   "metadata": {},
   "outputs": [],
   "source": [
    "countries[\"Belgium-Luxembourg\"] = countries[\"Belgium\"]\n",
    "countries[\"Congo, Democratic Republic\"] = countries[\"Congo, The Democratic Republic of the\"]\n",
    "countries[\"Czech Republic\"] = countries[\"Czechia\"]\n",
    "countries[\"German Federal Republic\"] = countries[\"Germany\"]\n",
    "countries[\"Ireland, Republic of\"] = countries[\"Ireland\"]\n",
    "countries[\"Korea (Rep. of)\"] = countries[\"Korea, Republic of\"]\n",
    "countries[\"Russia\"] = countries[\"Russian Federation\"]\n",
    "countries[\"Soviet Union\"] = countries[\"Russian Federation\"]\n",
    "countries[\"Taiwan\"] = countries[\"Taiwan, Province of China\"]\n",
    "countries[\"USA\"] = countries[\"United States\"]\n",
    "countries[\"Vietnam\"] = countries[\"Viet Nam\"]\n",
    "countries[\"Zaire\"] = countries[\"Congo, Democratic Republic\"]\n",
    "\n",
    "# Map country names\n",
    "df[\"Country code\"] = df[\"Country\"].apply(lambda x: countries.get(x, \"Unknown code\"))\n",
    "\n",
    "# Clear out trailing spaces\n",
    "df = df[df.columns].apply(lambda c: c.str.strip() if is_string_dtype(c) else c)\n",
    "\n",
    "# Reordering dataset\n",
    "column_order = [\"Country code\", \"Country\", \"Activity\", \"Commodity\", \"Sub-commodity\", \"Year\", \"Amount\", \"Measure\"]\n",
    "df = df[column_order]\n",
    "\n",
    "# Remove rows with missing amount\n",
    "df = df.dropna(subset=[\"Amount\"], axis=0).reset_index(drop=True)\n",
    "\n",
    "# \n",
    "activity = df[\"Activity\"].unique()[0]\n",
    "commodity = df[\"Commodity\"].unique()[0]"
   ]
  },
  {
   "cell_type": "code",
   "execution_count": 10,
   "id": "196382f2-1cb1-455d-813f-d6203afd5737",
   "metadata": {},
   "outputs": [
    {
     "data": {
      "text/plain": [
       "array(['exports'], dtype=object)"
      ]
     },
     "execution_count": 10,
     "metadata": {},
     "output_type": "execute_result"
    }
   ],
   "source": [
    "df[\"Activity\"].unique()"
   ]
  },
  {
   "cell_type": "code",
   "execution_count": 6,
   "id": "151660cd-2643-45dc-bae0-a0dc27167142",
   "metadata": {},
   "outputs": [
    {
     "data": {
      "text/plain": [
       "'cobalt'"
      ]
     },
     "execution_count": 6,
     "metadata": {},
     "output_type": "execute_result"
    }
   ],
   "source": [
    "commodity"
   ]
  },
  {
   "cell_type": "code",
   "execution_count": null,
   "id": "d513f4cc-3e0c-4111-adf3-171f11cceed2",
   "metadata": {},
   "outputs": [],
   "source": []
  }
 ],
 "metadata": {
  "kernelspec": {
   "display_name": "Python 3 (ipykernel)",
   "language": "python",
   "name": "python3"
  },
  "language_info": {
   "codemirror_mode": {
    "name": "ipython",
    "version": 3
   },
   "file_extension": ".py",
   "mimetype": "text/x-python",
   "name": "python",
   "nbconvert_exporter": "python",
   "pygments_lexer": "ipython3",
   "version": "3.8.13"
  }
 },
 "nbformat": 4,
 "nbformat_minor": 5
}
